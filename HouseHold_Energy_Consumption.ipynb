{
  "nbformat": 4,
  "nbformat_minor": 0,
  "metadata": {
    "colab": {
      "provenance": [],
      "authorship_tag": "ABX9TyPneB/5gh616rTsI66SstmK",
      "include_colab_link": true
    },
    "kernelspec": {
      "name": "python3",
      "display_name": "Python 3"
    },
    "language_info": {
      "name": "python"
    }
  },
  "cells": [
    {
      "cell_type": "markdown",
      "metadata": {
        "id": "view-in-github",
        "colab_type": "text"
      },
      "source": [
        "<a href=\"https://colab.research.google.com/github/NarendarB0152/SmartWattAIProject2/blob/main/HouseHold_Energy_Consumption.ipynb\" target=\"_parent\"><img src=\"https://colab.research.google.com/assets/colab-badge.svg\" alt=\"Open In Colab\"/></a>"
      ]
    },
    {
      "cell_type": "markdown",
      "source": [
        "**Topic**\n",
        "\n",
        "Design and implement an AI-powered energy management platform that continuously monitors household energy consumption patterns, forecasts daily and weekly usage, detects inefficiencies, and Scikit-learn, Streamlit & Azure | provides real- time, actionable recommendations to reduce wastage and optimize energy consumption.\n",
        "\n",
        "**Description**\n",
        "\n",
        "Residential Energy Analyticsand Platform using Python\n",
        "\n",
        "**Key points**\n",
        "\n",
        "Energy data analysis, consumption forecasting, optimization algorithms, user interface\n",
        "design, data processing.\n"
      ],
      "metadata": {
        "id": "4O7ld838y0wD"
      }
    },
    {
      "cell_type": "code",
      "source": [],
      "metadata": {
        "id": "BihI2uMjzQs4"
      },
      "execution_count": null,
      "outputs": []
    }
  ]
}